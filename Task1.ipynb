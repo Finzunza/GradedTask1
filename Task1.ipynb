{
  "metadata": {
    "language_info": {
      "codemirror_mode": {
        "name": "python",
        "version": 3
      },
      "file_extension": ".py",
      "mimetype": "text/x-python",
      "name": "python",
      "nbconvert_exporter": "python",
      "pygments_lexer": "ipython3",
      "version": "3.8"
    },
    "kernelspec": {
      "name": "python",
      "display_name": "Pyolite",
      "language": "python"
    }
  },
  "nbformat_minor": 4,
  "nbformat": 4,
  "cells": [
    {
      "cell_type": "markdown",
      "source": "<h1>My Jupyter Notebook on IBM Watson Studio </h1>",
      "metadata": {}
    },
    {
      "cell_type": "markdown",
      "source": "<b>Felipe Inzunza</b>\nSystem Analyst at \"Telecommunication Enterprise\"",
      "metadata": {}
    },
    {
      "cell_type": "markdown",
      "source": "<i>Im interested in data science because I want to know more about ways to obtain valuable information with the data. These skills could help me with my career</i>",
      "metadata": {}
    },
    {
      "cell_type": "markdown",
      "source": "<h3>The next lines of code simply add the numbers 3 and 4 to obtain the result as an output </h3>",
      "metadata": {}
    },
    {
      "cell_type": "code",
      "source": "num1 = 3\nnum2 = 4\nsum = num1 + num2\nprint('The sum of {0} and {1} is {2}'.format(num1, num2, sum))",
      "metadata": {
        "trusted": true
      },
      "execution_count": 2,
      "outputs": [
        {
          "name": "stdout",
          "text": "The sum of 3 and 4 is 7\n",
          "output_type": "stream"
        }
      ]
    },
    {
      "cell_type": "markdown",
      "source": "\n<hr></hr>\n<ol>\n<li>Example1</li>\n<li>Example2</li>\n<li>Example3</li>\n</ol>\n\n<hr></hr>\n\n<a href=\"https://www.google.com\">Link to Google</a>\n\n<hr></hr>",
      "metadata": {}
    },
    {
      "cell_type": "code",
      "source": "",
      "metadata": {},
      "execution_count": null,
      "outputs": []
    }
  ]
}